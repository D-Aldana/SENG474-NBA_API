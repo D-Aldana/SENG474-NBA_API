{
 "cells": [
  {
   "cell_type": "code",
   "execution_count": 1,
   "id": "942ec36b",
   "metadata": {},
   "outputs": [],
   "source": [
    "import pandas as pd\n",
    "import requests\n",
    "pd.set_option('display.max_columns', None) # so we can see all columns in a wide DataFrame\n",
    "import time\n",
    "import numpy as np"
   ]
  },
  {
   "cell_type": "code",
   "execution_count": 69,
   "id": "6426aa2c",
   "metadata": {},
   "outputs": [],
   "source": [
    "\n",
    "raw_api_url = 'https://stats.wnba.com/stats/leaguedashteamstats?College=&Conference=&Country=&Division=&DraftPick=&DraftYear=&GameScope=&GameSegment=&Height=&LastNGames=0&LeagueID=10&Location=&MeasureType=Base&Month=0&OpponentTeamID=0&Outcome=&PORound=0&PaceAdjust=N&PerMode=PerGame&Period=0&PlayerExperience=&PlayerPosition=&PlusMinus=N&Rank=N&Season=2020&SeasonSegment=&SeasonType=Regular+Season&ShotClockRange=&StarterBench=&TeamID=0'\n",
    "\n",
    "headers = {\n",
    "    'Accept': 'application/json',\n",
    "    'Referer': 'https://stats.wnba.com/',\n",
    "    'User-Agent': 'Mozilla/5.0 (Windows NT 10.0; Win64; x64) AppleWebKit/537.36 (KHTML, like Gecko) Chrome/106.0.0.0 Safari/537.36'\n",
    "}\n",
    "\n",
    "r = requests.get(url=raw_api_url, headers=headers).json()\n",
    "\n",
    "# Process the response data as per your requirements\n",
    "\n"
   ]
  },
  {
   "cell_type": "code",
   "execution_count": 1,
   "id": "c0bc2bb2",
   "metadata": {},
   "outputs": [],
   "source": [
    "# r['resultSets']"
   ]
  },
  {
   "cell_type": "code",
   "execution_count": 71,
   "id": "2581a034",
   "metadata": {},
   "outputs": [],
   "source": [
    "df_cols_short = r['resultSets'][0]['headers']\n"
   ]
  },
  {
   "cell_type": "code",
   "execution_count": 72,
   "id": "f623a521",
   "metadata": {},
   "outputs": [
    {
     "name": "stdout",
     "output_type": "stream",
     "text": [
      "Finished scraping data from the 1997 Regular%20Season\n",
      "...waiting 39.0 seconds...\n",
      "Finished scraping data from the 1998 Regular%20Season\n",
      "...waiting 21.4 seconds...\n",
      "Finished scraping data from the 1999 Regular%20Season\n",
      "...waiting 32.5 seconds...\n",
      "Finished scraping data from the 2000 Regular%20Season\n",
      "...waiting 34.8 seconds...\n",
      "Finished scraping data from the 2001 Regular%20Season\n",
      "...waiting 32.3 seconds...\n",
      "Finished scraping data from the 2002 Regular%20Season\n",
      "...waiting 23.0 seconds...\n",
      "Finished scraping data from the 2003 Regular%20Season\n",
      "...waiting 27.6 seconds...\n",
      "Finished scraping data from the 2004 Regular%20Season\n",
      "...waiting 37.4 seconds...\n",
      "Finished scraping data from the 2005 Regular%20Season\n",
      "...waiting 30.4 seconds...\n",
      "Finished scraping data from the 2006 Regular%20Season\n",
      "...waiting 25.1 seconds...\n",
      "Finished scraping data from the 2007 Regular%20Season\n",
      "...waiting 23.5 seconds...\n",
      "Finished scraping data from the 2008 Regular%20Season\n",
      "...waiting 34.0 seconds...\n",
      "Finished scraping data from the 2009 Regular%20Season\n",
      "...waiting 39.7 seconds...\n",
      "Finished scraping data from the 2010 Regular%20Season\n",
      "...waiting 21.3 seconds...\n",
      "Finished scraping data from the 2011 Regular%20Season\n",
      "...waiting 23.6 seconds...\n",
      "Finished scraping data from the 2012 Regular%20Season\n",
      "...waiting 26.6 seconds...\n",
      "Finished scraping data from the 2013 Regular%20Season\n",
      "...waiting 31.7 seconds...\n",
      "Finished scraping data from the 2014 Regular%20Season\n",
      "...waiting 36.9 seconds...\n",
      "Finished scraping data from the 2015 Regular%20Season\n",
      "...waiting 30.6 seconds...\n",
      "Finished scraping data from the 2016 Regular%20Season\n",
      "...waiting 21.6 seconds...\n",
      "Finished scraping data from the 2017 Regular%20Season\n",
      "...waiting 24.1 seconds...\n",
      "Finished scraping data from the 2018 Regular%20Season\n",
      "...waiting 34.7 seconds...\n",
      "Finished scraping data from the 2019 Regular%20Season\n",
      "...waiting 29.0 seconds...\n",
      "Finished scraping data from the 2020 Regular%20Season\n",
      "...waiting 30.3 seconds...\n",
      "Finished scraping data from the 2021 Regular%20Season\n",
      "...waiting 31.3 seconds...\n",
      "Finished scraping data from the 2022 Regular%20Season\n",
      "...waiting 39.6 seconds...\n",
      "Finished scraping data from the 2023 Regular%20Season\n",
      "...waiting 30.7 seconds...\n",
      "Process completed!! Total run time: 864.8 seconds)\n"
     ]
    }
   ],
   "source": [
    "df_cols = ['Year','Season_type'] + df_cols_short\n",
    "\n",
    "years = ['1997', '1998', '1999', '2000', '2001', '2002', '2003', '2004', '2005', '2006', '2007', '2008', '2009', '2010', '2011', '2012', '2013', '2014', '2015', '2016', '2017', '2018', '2019', '2020', '2021', '2022', '2023']\n",
    "\n",
    "season_types = ['Regular%20Season']\n",
    "\n",
    "df = pd.DataFrame(columns=df_cols)\n",
    "\n",
    "begin_loop = time.time()\n",
    "\n",
    "for y in years:\n",
    "    for s in season_types:\n",
    "        # api_url = 'https://stats.wnba.com/stats/leagueLeaders?LeagueID=00&PerMode=Totals&Scope=S&Season='+y+'&SeasonType='+s+'&StatCategory=PTS'\n",
    "        # api_url = 'https://stats.wnba.com/stats/leaguedashplayerstats?College=&Conference=&Country=&Division=&DraftPick=&DraftYear=&GameScope=&GameSegment=&Height=&LastNGames=0&LeagueID=10&Location=&MeasureType=Base&Month=0&OpponentTeamID=0&Outcome=&PORound=0&PaceAdjust=N&PerMode=PerGame&Period=0&PlayerExperience=&PlayerPosition=&PlusMinus=N&Rank=N&Season='+y+'&SeasonType='+s+'&StatCategory=PTS'\n",
    "        api_url = 'https://stats.wnba.com/stats/leaguedashteamstats?College=&Conference=&Country=&Division=&DraftPick=&DraftYear=&GameScope=&GameSegment=&Height=&LastNGames=0&LeagueID=10&Location=&MeasureType=Base&Month=0&OpponentTeamID=0&Outcome=&PORound=0&PaceAdjust=N&PerMode=PerGame&Period=0&PlayerExperience=&PlayerPosition=&PlusMinus=N&Rank=N&Season='+y+'&SeasonSegment=&SeasonType=Regular+Season&ShotClockRange=&StarterBench=&TeamID=0'\n",
    "\n",
    "        r = requests.get(url=api_url, headers=headers).json()\n",
    "        temp_df1 = pd.DataFrame(r['resultSets'][0]['rowSet'], columns=df_cols_short)\n",
    "        temp_df2 = pd.DataFrame({'Year':[y for i in range(len(temp_df1))],\n",
    "                                 'Season_type':[s for i in range(len(temp_df1))]})\n",
    "        temp_df3 = pd.concat([temp_df2, temp_df1], axis=1)\n",
    "        df = pd.concat([df, temp_df3], axis=0)\n",
    "        print(f'Finished scraping data from the {y} {s}')\n",
    "        lag = np.random.uniform(low=20, high=40)\n",
    "        print(f'...waiting {round(lag,1)} seconds...')\n",
    "        time.sleep(lag)\n",
    "print(f'Process completed!! Total run time: {round(time.time()-begin_loop,1)} seconds)')"
   ]
  },
  {
   "cell_type": "code",
   "execution_count": 73,
   "id": "2f0188f6",
   "metadata": {},
   "outputs": [],
   "source": [
    "df.to_excel('womens.xlsx', index=False)"
   ]
  },
  {
   "cell_type": "code",
   "execution_count": null,
   "id": "8b5ee3a9",
   "metadata": {},
   "outputs": [],
   "source": []
  }
 ],
 "metadata": {
  "kernelspec": {
   "display_name": "Python 3 (ipykernel)",
   "language": "python",
   "name": "python3"
  },
  "language_info": {
   "codemirror_mode": {
    "name": "ipython",
    "version": 3
   },
   "file_extension": ".py",
   "mimetype": "text/x-python",
   "name": "python",
   "nbconvert_exporter": "python",
   "pygments_lexer": "ipython3",
   "version": "3.10.6"
  }
 },
 "nbformat": 4,
 "nbformat_minor": 5
}
