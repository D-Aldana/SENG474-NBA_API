{
 "cells": [
  {
   "cell_type": "code",
   "execution_count": 5,
   "metadata": {},
   "outputs": [],
   "source": [
    "import pandas as pd\n",
    "import numpy as np\n"
   ]
  },
  {
   "cell_type": "code",
   "execution_count": 13,
   "metadata": {},
   "outputs": [],
   "source": [
    "df = pd.read_excel(\"NBA_data.xlsx\")\n",
    "\n",
    "df_bio = pd.read_excel(\"NBA_bio_data.xlsx\")"
   ]
  },
  {
   "cell_type": "code",
   "execution_count": 15,
   "metadata": {},
   "outputs": [
    {
     "name": "stdout",
     "output_type": "stream",
     "text": [
      "<class 'pandas.core.frame.DataFrame'>\n",
      "RangeIndex: 8049 entries, 0 to 8048\n",
      "Data columns (total 30 columns):\n",
      " #   Column       Non-Null Count  Dtype  \n",
      "---  ------       --------------  -----  \n",
      " 0   Year         8049 non-null   object \n",
      " 1   Season_type  8049 non-null   object \n",
      " 2   PLAYER_ID    8049 non-null   int64  \n",
      " 3   RANK         8049 non-null   int64  \n",
      " 4   PLAYER       8049 non-null   object \n",
      " 5   TEAM_ID      8049 non-null   int64  \n",
      " 6   TEAM         8049 non-null   object \n",
      " 7   GP           8049 non-null   int64  \n",
      " 8   MIN          8049 non-null   int64  \n",
      " 9   FGM          8049 non-null   int64  \n",
      " 10  FGA          8049 non-null   int64  \n",
      " 11  FG_PCT       8049 non-null   float64\n",
      " 12  FG3M         8049 non-null   int64  \n",
      " 13  FG3A         8049 non-null   int64  \n",
      " 14  FG3_PCT      8049 non-null   float64\n",
      " 15  FTM          8049 non-null   int64  \n",
      " 16  FTA          8049 non-null   int64  \n",
      " 17  FT_PCT       8049 non-null   float64\n",
      " 18  OREB         8049 non-null   int64  \n",
      " 19  DREB         8049 non-null   int64  \n",
      " 20  REB          8049 non-null   int64  \n",
      " 21  AST          8049 non-null   int64  \n",
      " 22  STL          8049 non-null   int64  \n",
      " 23  BLK          8049 non-null   int64  \n",
      " 24  TOV          8049 non-null   int64  \n",
      " 25  PF           8049 non-null   int64  \n",
      " 26  PTS          8049 non-null   int64  \n",
      " 27  EFF          8049 non-null   int64  \n",
      " 28  AST_TOV      8049 non-null   float64\n",
      " 29  STL_TOV      8049 non-null   float64\n",
      "dtypes: float64(5), int64(21), object(4)\n",
      "memory usage: 1.8+ MB\n"
     ]
    }
   ],
   "source": [
    "df.info()\n"
   ]
  },
  {
   "cell_type": "code",
   "execution_count": null,
   "metadata": {},
   "outputs": [],
   "source": []
  }
 ],
 "metadata": {
  "kernelspec": {
   "display_name": "Python 3",
   "language": "python",
   "name": "python3"
  },
  "language_info": {
   "codemirror_mode": {
    "name": "ipython",
    "version": 3
   },
   "file_extension": ".py",
   "mimetype": "text/x-python",
   "name": "python",
   "nbconvert_exporter": "python",
   "pygments_lexer": "ipython3",
   "version": "3.10.6"
  },
  "orig_nbformat": 4
 },
 "nbformat": 4,
 "nbformat_minor": 2
}
