{
 "cells": [
  {
   "cell_type": "code",
   "execution_count": 2,
   "id": "942ec36b",
   "metadata": {},
   "outputs": [],
   "source": [
    "import pandas as pd\n",
    "import requests\n",
    "pd.set_option('display.max_columns', None) # so we can see all columns in a wide DataFrame\n",
    "import time\n",
    "import numpy as np"
   ]
  },
  {
   "cell_type": "code",
   "execution_count": 52,
   "id": "d7954fbb",
   "metadata": {},
   "outputs": [],
   "source": [
    "\n",
    "#Bio Stats\n",
    "raw_api_url = 'https://stats.nba.com/stats/leaguedashplayerbiostats?LeagueID=00&PerMode=Totals&Scope=S&Season=2022-23&SeasonType=Playoffs&StatCategory=PTS'\n",
    "\n",
    "#Game Stats\n",
    "raw_api_url2 = 'https://stats.nba.com/stats/leagueLeaders?LeagueID=00&PerMode=Totals&Scope=S&Season=2011-12&SeasonType=Regular%20Season&StatCategory=PTS'\n",
    "\n",
    "#Team Stats\n",
    "raw_api_url3 = \"https://stats.nba.com/stats/leaguedashteamstats?Conference=&DateFrom=&DateTo=&Division=&GameScope=&GameSegment=&Height=&LastNGames=0&LeagueID=00&Location=&MeasureType=Base&Month=0&OpponentTeamID=0&Outcome=&PORound=0&PaceAdjust=N&PerMode=PerGame&Period=0&PlayerExperience=&PlayerPosition=&PlusMinus=N&Rank=N&Season=2022-23&SeasonSegment=&SeasonType=Playoffs&ShotClockRange=&StarterBench=&TeamID=0&TwoWay=0&VsConference=&VsDivision=\"\n",
    "\n",
    "\n",
    "\n",
    "\n",
    "\n",
    "\n",
    "\n",
    "\n",
    "\n",
    "\n"
   ]
  },
  {
   "cell_type": "code",
   "execution_count": 51,
   "id": "135b0a9c",
   "metadata": {},
   "outputs": [],
   "source": [
    "headers = {\n",
    "    'Accept': '*/*',\n",
    "    'Accept-Encoding': 'gzip, deflate, br',\n",
    "    'Accept-Language': 'en-US,en;q=0.9,es;q=0.8',\n",
    "    'Connection': 'keep-alive',\n",
    "    'Host': 'stats.nba.com',\n",
    "    'If-Modified-Since': 'Thu, 20 Oct 2022 08:06:46 GMT',\n",
    "    'Origin': 'https://www.nba.com',\n",
    "    'Referer': 'https://www.nba.com/',\n",
    "    'sec-ch-ua': '\"Chromium\";v=\"106\", \"Google Chrome\";v=\"106\", \"Not;A=Brand\";v=\"99\"',\n",
    "    'sec-ch-ua-mobile': '?0',\n",
    "    'sec-ch-ua-platform': \"Windows\",\n",
    "    'Sec-Fetch-Dest': 'empty',\n",
    "    'Sec-Fetch-Mode': 'cors',\n",
    "    'Sec-Fetch-Site': 'same-site',\n",
    "    'User-Agent': 'Mozilla/5.0 (Windows NT 10.0; Win64; x64) AppleWebKit/537.36 (KHTML, like Gecko) Chrome/106.0.0.0 Safari/537.36'\n",
    "}"
   ]
  },
  {
   "cell_type": "code",
   "execution_count": 53,
   "id": "83d6671f",
   "metadata": {},
   "outputs": [],
   "source": [
    "r = requests.get(url=raw_api_url, headers=headers).json()\n",
    "r2 = requests.get(url=raw_api_url2, headers=headers).json()\n",
    "r3 = requests.get(url=raw_api_url2, headers=headers).json()"
   ]
  },
  {
   "attachments": {},
   "cell_type": "markdown",
   "id": "fe4609d8",
   "metadata": {},
   "source": [
    "testing\n"
   ]
  },
  {
   "cell_type": "code",
   "execution_count": null,
   "metadata": {},
   "outputs": [],
   "source": [
    "\n"
   ]
  },
  {
   "cell_type": "code",
   "execution_count": 54,
   "id": "2581a034",
   "metadata": {},
   "outputs": [],
   "source": [
    "# Bio cols\n",
    "# df_cols_short = r['resultSets'][0]['headers']\n",
    "\n",
    "# Team cols\n",
    "# df_cols_short = r['resultSets'][0]['rowSet']\n",
    "\n",
    "# Game cols\n",
    "# df_cols_short = r['resultSet']['rowSet']\n",
    "\n",
    "\n",
    "df_cols_short = r2['resultSet']['rowSet']\n",
    "df_cols = ['Year', 'Season_type'] + df_cols_short\n",
    "# years = ['2012-13','2013-14','2014-15','2015-16','2016-17','2017-18','2018-19','2019-20','2020-21','2021-22','2022-23']\n",
    "years = ['1996-97', '1997-98', '1998-99', '1999-00', '2000-01', '2001-02', '2002-03', '2003-04', '2004-05', '2005-06', '2006-07', '2007-08', '2008-09', '2009-10', '2010-11', '2011-12', '2012-13', '2013-14', '2014-15', '2015-16', '2016-17', '2017-18', '2018-19', '2019-20', '2020-21', '2021-22', '2022-23']\n",
    "# season_types = ['Regular%20Season','Playoffs']\n",
    "season_types = ['Regular%20Season']\n",
    "df = pd.DataFrame(columns=df_cols)\n",
    "\n",
    "begin_loop = time.time()\n"
   ]
  },
  {
   "cell_type": "code",
   "execution_count": 55,
   "id": "f623a521",
   "metadata": {},
   "outputs": [
    {
     "ename": "TypeError",
     "evalue": "unhashable type: 'list'",
     "output_type": "error",
     "traceback": [
      "\u001b[0;31m---------------------------------------------------------------------------\u001b[0m",
      "\u001b[0;31mTypeError\u001b[0m                                 Traceback (most recent call last)",
      "Cell \u001b[0;32mIn[55], line 36\u001b[0m\n\u001b[1;32m     34\u001b[0m temp_df2 \u001b[39m=\u001b[39m pd\u001b[39m.\u001b[39mDataFrame({\u001b[39m'\u001b[39m\u001b[39mYear\u001b[39m\u001b[39m'\u001b[39m: [y] \u001b[39m*\u001b[39m \u001b[39mlen\u001b[39m(temp_df1), \u001b[39m'\u001b[39m\u001b[39mSeason_type\u001b[39m\u001b[39m'\u001b[39m: [s] \u001b[39m*\u001b[39m \u001b[39mlen\u001b[39m(temp_df1)})\n\u001b[1;32m     35\u001b[0m temp_df3 \u001b[39m=\u001b[39m pd\u001b[39m.\u001b[39mconcat([temp_df2, temp_df1], axis\u001b[39m=\u001b[39m\u001b[39m1\u001b[39m)\n\u001b[0;32m---> 36\u001b[0m df \u001b[39m=\u001b[39m pd\u001b[39m.\u001b[39;49mconcat([df, temp_df3], axis\u001b[39m=\u001b[39;49m\u001b[39m0\u001b[39;49m)\n\u001b[1;32m     37\u001b[0m \u001b[39mprint\u001b[39m(\u001b[39mf\u001b[39m\u001b[39m'\u001b[39m\u001b[39mFinished scraping data from the \u001b[39m\u001b[39m{\u001b[39;00my\u001b[39m}\u001b[39;00m\u001b[39m \u001b[39m\u001b[39m{\u001b[39;00ms\u001b[39m}\u001b[39;00m\u001b[39m'\u001b[39m)\n\u001b[1;32m     38\u001b[0m lag \u001b[39m=\u001b[39m np\u001b[39m.\u001b[39mrandom\u001b[39m.\u001b[39muniform(low\u001b[39m=\u001b[39m\u001b[39m20\u001b[39m, high\u001b[39m=\u001b[39m\u001b[39m40\u001b[39m)\n",
      "File \u001b[0;32m/Library/Frameworks/Python.framework/Versions/3.10/lib/python3.10/site-packages/pandas/core/reshape/concat.py:372\u001b[0m, in \u001b[0;36mconcat\u001b[0;34m(objs, axis, join, ignore_index, keys, levels, names, verify_integrity, sort, copy)\u001b[0m\n\u001b[1;32m    369\u001b[0m \u001b[39melif\u001b[39;00m copy \u001b[39mand\u001b[39;00m using_copy_on_write():\n\u001b[1;32m    370\u001b[0m     copy \u001b[39m=\u001b[39m \u001b[39mFalse\u001b[39;00m\n\u001b[0;32m--> 372\u001b[0m op \u001b[39m=\u001b[39m _Concatenator(\n\u001b[1;32m    373\u001b[0m     objs,\n\u001b[1;32m    374\u001b[0m     axis\u001b[39m=\u001b[39;49maxis,\n\u001b[1;32m    375\u001b[0m     ignore_index\u001b[39m=\u001b[39;49mignore_index,\n\u001b[1;32m    376\u001b[0m     join\u001b[39m=\u001b[39;49mjoin,\n\u001b[1;32m    377\u001b[0m     keys\u001b[39m=\u001b[39;49mkeys,\n\u001b[1;32m    378\u001b[0m     levels\u001b[39m=\u001b[39;49mlevels,\n\u001b[1;32m    379\u001b[0m     names\u001b[39m=\u001b[39;49mnames,\n\u001b[1;32m    380\u001b[0m     verify_integrity\u001b[39m=\u001b[39;49mverify_integrity,\n\u001b[1;32m    381\u001b[0m     copy\u001b[39m=\u001b[39;49mcopy,\n\u001b[1;32m    382\u001b[0m     sort\u001b[39m=\u001b[39;49msort,\n\u001b[1;32m    383\u001b[0m )\n\u001b[1;32m    385\u001b[0m \u001b[39mreturn\u001b[39;00m op\u001b[39m.\u001b[39mget_result()\n",
      "File \u001b[0;32m/Library/Frameworks/Python.framework/Versions/3.10/lib/python3.10/site-packages/pandas/core/reshape/concat.py:563\u001b[0m, in \u001b[0;36m_Concatenator.__init__\u001b[0;34m(self, objs, axis, join, keys, levels, names, ignore_index, verify_integrity, copy, sort)\u001b[0m\n\u001b[1;32m    560\u001b[0m \u001b[39mself\u001b[39m\u001b[39m.\u001b[39mverify_integrity \u001b[39m=\u001b[39m verify_integrity\n\u001b[1;32m    561\u001b[0m \u001b[39mself\u001b[39m\u001b[39m.\u001b[39mcopy \u001b[39m=\u001b[39m copy\n\u001b[0;32m--> 563\u001b[0m \u001b[39mself\u001b[39m\u001b[39m.\u001b[39mnew_axes \u001b[39m=\u001b[39m \u001b[39mself\u001b[39;49m\u001b[39m.\u001b[39;49m_get_new_axes()\n",
      "File \u001b[0;32m/Library/Frameworks/Python.framework/Versions/3.10/lib/python3.10/site-packages/pandas/core/reshape/concat.py:633\u001b[0m, in \u001b[0;36m_Concatenator._get_new_axes\u001b[0;34m(self)\u001b[0m\n\u001b[1;32m    631\u001b[0m \u001b[39mdef\u001b[39;00m \u001b[39m_get_new_axes\u001b[39m(\u001b[39mself\u001b[39m) \u001b[39m-\u001b[39m\u001b[39m>\u001b[39m \u001b[39mlist\u001b[39m[Index]:\n\u001b[1;32m    632\u001b[0m     ndim \u001b[39m=\u001b[39m \u001b[39mself\u001b[39m\u001b[39m.\u001b[39m_get_result_dim()\n\u001b[0;32m--> 633\u001b[0m     \u001b[39mreturn\u001b[39;00m [\n\u001b[1;32m    634\u001b[0m         \u001b[39mself\u001b[39m\u001b[39m.\u001b[39m_get_concat_axis \u001b[39mif\u001b[39;00m i \u001b[39m==\u001b[39m \u001b[39mself\u001b[39m\u001b[39m.\u001b[39mbm_axis \u001b[39melse\u001b[39;00m \u001b[39mself\u001b[39m\u001b[39m.\u001b[39m_get_comb_axis(i)\n\u001b[1;32m    635\u001b[0m         \u001b[39mfor\u001b[39;00m i \u001b[39min\u001b[39;00m \u001b[39mrange\u001b[39m(ndim)\n\u001b[1;32m    636\u001b[0m     ]\n",
      "File \u001b[0;32m/Library/Frameworks/Python.framework/Versions/3.10/lib/python3.10/site-packages/pandas/core/reshape/concat.py:634\u001b[0m, in \u001b[0;36m<listcomp>\u001b[0;34m(.0)\u001b[0m\n\u001b[1;32m    631\u001b[0m \u001b[39mdef\u001b[39;00m \u001b[39m_get_new_axes\u001b[39m(\u001b[39mself\u001b[39m) \u001b[39m-\u001b[39m\u001b[39m>\u001b[39m \u001b[39mlist\u001b[39m[Index]:\n\u001b[1;32m    632\u001b[0m     ndim \u001b[39m=\u001b[39m \u001b[39mself\u001b[39m\u001b[39m.\u001b[39m_get_result_dim()\n\u001b[1;32m    633\u001b[0m     \u001b[39mreturn\u001b[39;00m [\n\u001b[0;32m--> 634\u001b[0m         \u001b[39mself\u001b[39m\u001b[39m.\u001b[39m_get_concat_axis \u001b[39mif\u001b[39;00m i \u001b[39m==\u001b[39m \u001b[39mself\u001b[39m\u001b[39m.\u001b[39mbm_axis \u001b[39melse\u001b[39;00m \u001b[39mself\u001b[39;49m\u001b[39m.\u001b[39;49m_get_comb_axis(i)\n\u001b[1;32m    635\u001b[0m         \u001b[39mfor\u001b[39;00m i \u001b[39min\u001b[39;00m \u001b[39mrange\u001b[39m(ndim)\n\u001b[1;32m    636\u001b[0m     ]\n",
      "File \u001b[0;32m/Library/Frameworks/Python.framework/Versions/3.10/lib/python3.10/site-packages/pandas/core/reshape/concat.py:640\u001b[0m, in \u001b[0;36m_Concatenator._get_comb_axis\u001b[0;34m(self, i)\u001b[0m\n\u001b[1;32m    638\u001b[0m \u001b[39mdef\u001b[39;00m \u001b[39m_get_comb_axis\u001b[39m(\u001b[39mself\u001b[39m, i: AxisInt) \u001b[39m-\u001b[39m\u001b[39m>\u001b[39m Index:\n\u001b[1;32m    639\u001b[0m     data_axis \u001b[39m=\u001b[39m \u001b[39mself\u001b[39m\u001b[39m.\u001b[39mobjs[\u001b[39m0\u001b[39m]\u001b[39m.\u001b[39m_get_block_manager_axis(i)\n\u001b[0;32m--> 640\u001b[0m     \u001b[39mreturn\u001b[39;00m get_objs_combined_axis(\n\u001b[1;32m    641\u001b[0m         \u001b[39mself\u001b[39;49m\u001b[39m.\u001b[39;49mobjs,\n\u001b[1;32m    642\u001b[0m         axis\u001b[39m=\u001b[39;49mdata_axis,\n\u001b[1;32m    643\u001b[0m         intersect\u001b[39m=\u001b[39;49m\u001b[39mself\u001b[39;49m\u001b[39m.\u001b[39;49mintersect,\n\u001b[1;32m    644\u001b[0m         sort\u001b[39m=\u001b[39;49m\u001b[39mself\u001b[39;49m\u001b[39m.\u001b[39;49msort,\n\u001b[1;32m    645\u001b[0m         copy\u001b[39m=\u001b[39;49m\u001b[39mself\u001b[39;49m\u001b[39m.\u001b[39;49mcopy,\n\u001b[1;32m    646\u001b[0m     )\n",
      "File \u001b[0;32m/Library/Frameworks/Python.framework/Versions/3.10/lib/python3.10/site-packages/pandas/core/indexes/api.py:95\u001b[0m, in \u001b[0;36mget_objs_combined_axis\u001b[0;34m(objs, intersect, axis, sort, copy)\u001b[0m\n\u001b[1;32m     71\u001b[0m \u001b[39m\u001b[39m\u001b[39m\"\"\"\u001b[39;00m\n\u001b[1;32m     72\u001b[0m \u001b[39mExtract combined index: return intersection or union (depending on the\u001b[39;00m\n\u001b[1;32m     73\u001b[0m \u001b[39mvalue of \"intersect\") of indexes on given axis, or None if all objects\u001b[39;00m\n\u001b[0;32m   (...)\u001b[0m\n\u001b[1;32m     92\u001b[0m \u001b[39mIndex\u001b[39;00m\n\u001b[1;32m     93\u001b[0m \u001b[39m\"\"\"\u001b[39;00m\n\u001b[1;32m     94\u001b[0m obs_idxes \u001b[39m=\u001b[39m [obj\u001b[39m.\u001b[39m_get_axis(axis) \u001b[39mfor\u001b[39;00m obj \u001b[39min\u001b[39;00m objs]\n\u001b[0;32m---> 95\u001b[0m \u001b[39mreturn\u001b[39;00m _get_combined_index(obs_idxes, intersect\u001b[39m=\u001b[39;49mintersect, sort\u001b[39m=\u001b[39;49msort, copy\u001b[39m=\u001b[39;49mcopy)\n",
      "File \u001b[0;32m/Library/Frameworks/Python.framework/Versions/3.10/lib/python3.10/site-packages/pandas/core/indexes/api.py:148\u001b[0m, in \u001b[0;36m_get_combined_index\u001b[0;34m(indexes, intersect, sort, copy)\u001b[0m\n\u001b[1;32m    146\u001b[0m         index \u001b[39m=\u001b[39m index\u001b[39m.\u001b[39mintersection(other)\n\u001b[1;32m    147\u001b[0m \u001b[39melse\u001b[39;00m:\n\u001b[0;32m--> 148\u001b[0m     index \u001b[39m=\u001b[39m union_indexes(indexes, sort\u001b[39m=\u001b[39;49m\u001b[39mFalse\u001b[39;49;00m)\n\u001b[1;32m    149\u001b[0m     index \u001b[39m=\u001b[39m ensure_index(index)\n\u001b[1;32m    151\u001b[0m \u001b[39mif\u001b[39;00m sort:\n",
      "File \u001b[0;32m/Library/Frameworks/Python.framework/Versions/3.10/lib/python3.10/site-packages/pandas/core/indexes/api.py:300\u001b[0m, in \u001b[0;36munion_indexes\u001b[0;34m(indexes, sort)\u001b[0m\n\u001b[1;32m    298\u001b[0m index \u001b[39m=\u001b[39m indexes[\u001b[39m0\u001b[39m]\n\u001b[1;32m    299\u001b[0m \u001b[39mif\u001b[39;00m \u001b[39mnot\u001b[39;00m \u001b[39mall\u001b[39m(index\u001b[39m.\u001b[39mequals(other) \u001b[39mfor\u001b[39;00m other \u001b[39min\u001b[39;00m indexes[\u001b[39m1\u001b[39m:]):\n\u001b[0;32m--> 300\u001b[0m     index \u001b[39m=\u001b[39m _unique_indices(indexes, dtype)\n\u001b[1;32m    302\u001b[0m name \u001b[39m=\u001b[39m get_unanimous_names(\u001b[39m*\u001b[39mindexes)[\u001b[39m0\u001b[39m]\n\u001b[1;32m    303\u001b[0m \u001b[39mif\u001b[39;00m name \u001b[39m!=\u001b[39m index\u001b[39m.\u001b[39mname:\n",
      "File \u001b[0;32m/Library/Frameworks/Python.framework/Versions/3.10/lib/python3.10/site-packages/pandas/core/indexes/api.py:242\u001b[0m, in \u001b[0;36munion_indexes.<locals>._unique_indices\u001b[0;34m(inds, dtype)\u001b[0m\n\u001b[1;32m    238\u001b[0m         i \u001b[39m=\u001b[39m i\u001b[39m.\u001b[39mtolist()\n\u001b[1;32m    239\u001b[0m     \u001b[39mreturn\u001b[39;00m i\n\u001b[1;32m    241\u001b[0m \u001b[39mreturn\u001b[39;00m Index(\n\u001b[0;32m--> 242\u001b[0m     lib\u001b[39m.\u001b[39;49mfast_unique_multiple_list([conv(i) \u001b[39mfor\u001b[39;49;00m i \u001b[39min\u001b[39;49;00m inds], sort\u001b[39m=\u001b[39;49msort),\n\u001b[1;32m    243\u001b[0m     dtype\u001b[39m=\u001b[39mdtype,\n\u001b[1;32m    244\u001b[0m )\n",
      "File \u001b[0;32m/Library/Frameworks/Python.framework/Versions/3.10/lib/python3.10/site-packages/pandas/_libs/lib.pyx:338\u001b[0m, in \u001b[0;36mpandas._libs.lib.fast_unique_multiple_list\u001b[0;34m()\u001b[0m\n",
      "\u001b[0;31mTypeError\u001b[0m: unhashable type: 'list'"
     ]
    }
   ],
   "source": [
    "\n",
    "\n",
    "#Get Team Data\n",
    "#________________________________________________________________________________________________\n",
    "# for y in years:\n",
    "#     for s in season_types:\n",
    "#         # api_url = 'https://stats.nba.com/stats/leagueLeaders?LeagueID=00&PerMode=Totals&Scope=S&Season='+y+'&SeasonType='+s+'&StatCategory=PTS'\n",
    "#         # api_url = 'https://stats.nba.com/stats/leaguedashplayerbiostats?LeagueID=00&PerMode=Totals&Scope=S&Season='+y+'&SeasonType='+s+'&StatCategory=PTS'\n",
    "       \n",
    "#                     #https://stats.nba.com/stats/leaguedashteamstats?Conference=&DateFrom=&DateTo=&Division=&GameScope=&GameSegment=&Height=&LastNGames=0&LeagueID=00&Location=&MeasureType=Base&Month=0&OpponentTeamID=0&Outcome=&PORound=0&PaceAdjust=N&PerMode=PerGame&Period=0&PlayerExperience=&PlayerPosition=&PlusMinus=N&Rank=N&Season=2022-23&SeasonSegment=&SeasonType=Playoffs&ShotClockRange=&StarterBench=&TeamID=0&TwoWay=0&VsConference=&VsDivision=\n",
    "#        # api_url =   'https://stats.nba.com/stats/leaguedashteamstats?Conference='\n",
    "#         api_url = 'https://stats.nba.com/stats/leaguedashteamstats?Conference=&DateFrom=&DateTo=&Division=&GameScope=&GameSegment=&Height=&LastNGames=0&LeagueID=00&Location=&MeasureType=Base&Month=0&OpponentTeamID=0&Outcome=&PORound=0&PaceAdjust=N&PerMode=PerGame&Period=0&PlayerExperience=&PlayerPosition=&PlusMinus=N&Rank=N&Season=' + y + '&SeasonSegment=&SeasonType=' + s + '&ShotClockRange=&StarterBench=&TeamID=0&TwoWay=0&VsConference=&VsDivision='\n",
    "\n",
    "\n",
    "#         r = requests.get(url=api_url, headers=headers).json()\n",
    "\n",
    "#         temp_df1 = pd.DataFrame(r['resultSets'][0]['rowSet'], columns=df_cols_short)\n",
    "#         temp_df2 = pd.DataFrame({'Year': [y] * len(temp_df1), 'Season_type': [s] * len(temp_df1)})\n",
    "#         temp_df3 = pd.concat([temp_df2, temp_df1], axis=1)\n",
    "#         df = pd.concat([df, temp_df3], axis=0)\n",
    "\n",
    "\n",
    "#         print(f'Finished scraping data from the {y} {s}')\n",
    "#         lag = np.random.uniform(low=20, high=40)\n",
    "#         print(f'...waiting {round(lag,1)} seconds...')\n",
    "#         time.sleep(lag)\n",
    "\n",
    "\n",
    "#Get Game Data\n",
    "#________________________________________________________________________________________________\n",
    "for y in years:\n",
    "    for s in season_types:\n",
    "        api_url = 'https://stats.nba.com/stats/leagueLeaders?LeagueID=00&PerMode=Totals&Scope=S&Season='+y+'&SeasonType='+s+'&StatCategory=PTS'\n",
    "        r = requests.get(url=api_url, headers=headers).json()\n",
    "        temp_df1 = pd.DataFrame(r['resultSet']['rowSet'], columns=df_cols_short)\n",
    "        temp_df2 = pd.DataFrame({'Year': [y] * len(temp_df1), 'Season_type': [s] * len(temp_df1)})\n",
    "        temp_df3 = pd.concat([temp_df2, temp_df1], axis=1)\n",
    "        df = pd.concat([df, temp_df3], axis=0)\n",
    "        print(f'Finished scraping data from the {y} {s}')\n",
    "        lag = np.random.uniform(low=20, high=40)\n",
    "        print(f'...waiting {round(lag,1)} seconds...')\n",
    "        time.sleep(lag)\n",
    "\n",
    "\n",
    "# #Get Bio Data\n",
    "# #________________________________________________________________________________________________\n",
    "# for y in years:\n",
    "#     for s in season_types:\n",
    "#         # api_url = 'https://stats.nba.com/stats/leagueLeaders?LeagueID=00&PerMode=Totals&Scope=S&Season='+y+'&SeasonType='+s+'&StatCategory=PTS'\n",
    "#         api_url = 'https://stats.nba.com/stats/leaguedashplayerbiostats?LeagueID=00&PerMode=Totals&Scope=S&Season='+y+'&SeasonType='+s+'&StatCategory=PTS'\n",
    "\n",
    "#         r = requests.get(url=api_url, headers=headers).json()\n",
    "#         temp_df1 = pd.DataFrame(r['resultSets'][0]['rowSet'], columns=df_cols_short)\n",
    "#         temp_df2 = pd.DataFrame({'Year':[y for i in range(len(temp_df1))],\n",
    "#                                  'Season_type':[s for i in range(len(temp_df1))]})\n",
    "#         temp_df3 = pd.concat([temp_df2, temp_df1], axis=1)\n",
    "#         df = pd.concat([df, temp_df3], axis=0)\n",
    "#         print(f'Finished scraping data from the {y} {s}')\n",
    "#         lag = np.random.uniform(low=20, high=40)\n",
    "#         print(f'...waiting {round(lag,1)} seconds...')\n",
    "#         time.sleep(lag)\n",
    "\n"
   ]
  },
  {
   "cell_type": "code",
   "execution_count": 38,
   "id": "2f0188f6",
   "metadata": {},
   "outputs": [],
   "source": [
    "df.to_excel('NBA_team_data.xlsx', index=False)"
   ]
  },
  {
   "cell_type": "code",
   "execution_count": null,
   "id": "dea2e609",
   "metadata": {},
   "outputs": [],
   "source": []
  }
 ],
 "metadata": {
  "kernelspec": {
   "display_name": "Python 3 (ipykernel)",
   "language": "python",
   "name": "python3"
  },
  "language_info": {
   "codemirror_mode": {
    "name": "ipython",
    "version": 3
   },
   "file_extension": ".py",
   "mimetype": "text/x-python",
   "name": "python",
   "nbconvert_exporter": "python",
   "pygments_lexer": "ipython3",
   "version": "3.10.6"
  }
 },
 "nbformat": 4,
 "nbformat_minor": 5
}
