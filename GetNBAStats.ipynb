{
 "cells": [
  {
   "cell_type": "code",
   "execution_count": 1,
   "id": "942ec36b",
   "metadata": {},
   "outputs": [],
   "source": [
    "import pandas as pd\n",
    "import requests\n",
    "pd.set_option('display.max_columns', None) # so we can see all columns in a wide DataFrame\n",
    "import time\n",
    "import numpy as np"
   ]
  },
  {
   "cell_type": "code",
   "execution_count": 9,
   "id": "d7954fbb",
   "metadata": {},
   "outputs": [],
   "source": [
    "\n",
    "# #Bio Stats\n",
    "# raw_api_url = 'https://stats.nba.com/stats/leaguedashplayerbiostats?LeagueID=00&PerMode=Totals&Scope=S&Season=2022-23&SeasonType=Playoffs&StatCategory=PTS'\n",
    "\n",
    "#Game Stats\n",
    "raw_api_url = 'https://stats.wnba.com/stats/leagueLeaders?LeagueID=00&PerMode=Totals&Scope=S&Season=2011-12&SeasonType=Regular%20Season&StatCategory=PTS'\n",
    "\n",
    "# #Team Stats\n",
    "# raw_api_url3 = \"https://stats.nba.com/stats/leaguedashteamstats?Conference=&DateFrom=&DateTo=&Division=&GameScope=&GameSegment=&Height=&LastNGames=0&LeagueID=00&Location=&MeasureType=Base&Month=0&OpponentTeamID=0&Outcome=&PORound=0&PaceAdjust=N&PerMode=PerGame&Period=0&PlayerExperience=&PlayerPosition=&PlusMinus=N&Rank=N&Season=2022-23&SeasonSegment=&SeasonType=Playoffs&ShotClockRange=&StarterBench=&TeamID=0&TwoWay=0&VsConference=&VsDivision=\"\n",
    "\n",
    "\n",
    "\n",
    "\n",
    "\n",
    "\n",
    "\n",
    "\n",
    "\n",
    "\n"
   ]
  },
  {
   "cell_type": "code",
   "execution_count": 12,
   "id": "135b0a9c",
   "metadata": {},
   "outputs": [],
   "source": [
    "headers = {\n",
    "    'Accept': '*/*',\n",
    "    'Accept-Encoding': 'gzip, deflate, br',\n",
    "    'Accept-Language': 'en-US,en;q=0.9,es;q=0.8',\n",
    "    'Connection': 'keep-alive',\n",
    "    'Host': 'stats.wnba.com',\n",
    "    'If-Modified-Since': 'Thu, 20 Oct 2022 08:06:46 GMT',\n",
    "    'Origin': 'https://www.wnba.com',\n",
    "    'Referer': 'https://www.wnba.com/',\n",
    "    'sec-ch-ua': '\"Chromium\";v=\"106\", \"Google Chrome\";v=\"106\", \"Not;A=Brand\";v=\"99\"',\n",
    "    'sec-ch-ua-mobile': '?0',\n",
    "    'sec-ch-ua-platform': \"Windows\",\n",
    "    'Sec-Fetch-Dest': 'empty',\n",
    "    'Sec-Fetch-Mode': 'cors',\n",
    "    'Sec-Fetch-Site': 'same-site',\n",
    "    'User-Agent': 'Mozilla/5.0 (Windows NT 10.0; Win64; x64) AppleWebKit/537.36 (KHTML, like Gecko) Chrome/106.0.0.0 Safari/537.36'\n",
    "}"
   ]
  },
  {
   "cell_type": "code",
   "execution_count": 13,
   "id": "83d6671f",
   "metadata": {},
   "outputs": [],
   "source": [
    "r = requests.get(url=raw_api_url, headers=headers).json()\n",
    "# r2 = requests.get(url=raw_api_url2, headers=headers).json()\n",
    "# r3 = requests.get(url=raw_api_url2, headers=headers).json()"
   ]
  },
  {
   "attachments": {},
   "cell_type": "markdown",
   "id": "fe4609d8",
   "metadata": {},
   "source": [
    "testing\n"
   ]
  },
  {
   "cell_type": "code",
   "execution_count": null,
   "metadata": {},
   "outputs": [],
   "source": [
    "\n"
   ]
  },
  {
   "cell_type": "code",
   "execution_count": 14,
   "id": "2581a034",
   "metadata": {},
   "outputs": [],
   "source": [
    "# Bio cols\n",
    "# df_cols_short = r['resultSets'][0]['headers']\n",
    "\n",
    "# Team cols\n",
    "# df_cols_short = r['resultSets'][0]['rowSet']\n",
    "\n",
    "# Game cols\n",
    "# df_cols_short = r['resultSet']['rowSet']\n",
    "\n",
    "\n",
    "df_cols_short = r['resultSet']['rowSet']\n",
    "df_cols = ['Year', 'Season_type'] + df_cols_short\n",
    "# years = ['2012-13','2013-14','2014-15','2015-16','2016-17','2017-18','2018-19','2019-20','2020-21','2021-22','2022-23']\n",
    "years = ['1996-97', '1997-98', '1998-99', '1999-00', '2000-01', '2001-02', '2002-03', '2003-04', '2004-05', '2005-06', '2006-07', '2007-08', '2008-09', '2009-10', '2010-11', '2011-12', '2012-13', '2013-14', '2014-15', '2015-16', '2016-17', '2017-18', '2018-19', '2019-20', '2020-21', '2021-22', '2022-23']\n",
    "# season_types = ['Regular%20Season','Playoffs']\n",
    "season_types = ['Regular%20Season']\n",
    "df = pd.DataFrame(columns=df_cols)\n",
    "\n",
    "begin_loop = time.time()\n"
   ]
  },
  {
   "cell_type": "code",
   "execution_count": 15,
   "id": "f623a521",
   "metadata": {},
   "outputs": [
    {
     "ename": "JSONDecodeError",
     "evalue": "Expecting value: line 1 column 1 (char 0)",
     "output_type": "error",
     "traceback": [
      "\u001b[0;31m---------------------------------------------------------------------------\u001b[0m",
      "\u001b[0;31mJSONDecodeError\u001b[0m                           Traceback (most recent call last)",
      "File \u001b[0;32m/Library/Frameworks/Python.framework/Versions/3.10/lib/python3.10/site-packages/requests/models.py:971\u001b[0m, in \u001b[0;36mResponse.json\u001b[0;34m(self, **kwargs)\u001b[0m\n\u001b[1;32m    970\u001b[0m \u001b[39mtry\u001b[39;00m:\n\u001b[0;32m--> 971\u001b[0m     \u001b[39mreturn\u001b[39;00m complexjson\u001b[39m.\u001b[39;49mloads(\u001b[39mself\u001b[39;49m\u001b[39m.\u001b[39;49mtext, \u001b[39m*\u001b[39;49m\u001b[39m*\u001b[39;49mkwargs)\n\u001b[1;32m    972\u001b[0m \u001b[39mexcept\u001b[39;00m JSONDecodeError \u001b[39mas\u001b[39;00m e:\n\u001b[1;32m    973\u001b[0m     \u001b[39m# Catch JSON-related errors and raise as requests.JSONDecodeError\u001b[39;00m\n\u001b[1;32m    974\u001b[0m     \u001b[39m# This aliases json.JSONDecodeError and simplejson.JSONDecodeError\u001b[39;00m\n",
      "File \u001b[0;32m/Library/Frameworks/Python.framework/Versions/3.10/lib/python3.10/json/__init__.py:346\u001b[0m, in \u001b[0;36mloads\u001b[0;34m(s, cls, object_hook, parse_float, parse_int, parse_constant, object_pairs_hook, **kw)\u001b[0m\n\u001b[1;32m    343\u001b[0m \u001b[39mif\u001b[39;00m (\u001b[39mcls\u001b[39m \u001b[39mis\u001b[39;00m \u001b[39mNone\u001b[39;00m \u001b[39mand\u001b[39;00m object_hook \u001b[39mis\u001b[39;00m \u001b[39mNone\u001b[39;00m \u001b[39mand\u001b[39;00m\n\u001b[1;32m    344\u001b[0m         parse_int \u001b[39mis\u001b[39;00m \u001b[39mNone\u001b[39;00m \u001b[39mand\u001b[39;00m parse_float \u001b[39mis\u001b[39;00m \u001b[39mNone\u001b[39;00m \u001b[39mand\u001b[39;00m\n\u001b[1;32m    345\u001b[0m         parse_constant \u001b[39mis\u001b[39;00m \u001b[39mNone\u001b[39;00m \u001b[39mand\u001b[39;00m object_pairs_hook \u001b[39mis\u001b[39;00m \u001b[39mNone\u001b[39;00m \u001b[39mand\u001b[39;00m \u001b[39mnot\u001b[39;00m kw):\n\u001b[0;32m--> 346\u001b[0m     \u001b[39mreturn\u001b[39;00m _default_decoder\u001b[39m.\u001b[39;49mdecode(s)\n\u001b[1;32m    347\u001b[0m \u001b[39mif\u001b[39;00m \u001b[39mcls\u001b[39m \u001b[39mis\u001b[39;00m \u001b[39mNone\u001b[39;00m:\n",
      "File \u001b[0;32m/Library/Frameworks/Python.framework/Versions/3.10/lib/python3.10/json/decoder.py:337\u001b[0m, in \u001b[0;36mJSONDecoder.decode\u001b[0;34m(self, s, _w)\u001b[0m\n\u001b[1;32m    333\u001b[0m \u001b[39m\u001b[39m\u001b[39m\"\"\"Return the Python representation of ``s`` (a ``str`` instance\u001b[39;00m\n\u001b[1;32m    334\u001b[0m \u001b[39mcontaining a JSON document).\u001b[39;00m\n\u001b[1;32m    335\u001b[0m \n\u001b[1;32m    336\u001b[0m \u001b[39m\"\"\"\u001b[39;00m\n\u001b[0;32m--> 337\u001b[0m obj, end \u001b[39m=\u001b[39m \u001b[39mself\u001b[39;49m\u001b[39m.\u001b[39;49mraw_decode(s, idx\u001b[39m=\u001b[39;49m_w(s, \u001b[39m0\u001b[39;49m)\u001b[39m.\u001b[39;49mend())\n\u001b[1;32m    338\u001b[0m end \u001b[39m=\u001b[39m _w(s, end)\u001b[39m.\u001b[39mend()\n",
      "File \u001b[0;32m/Library/Frameworks/Python.framework/Versions/3.10/lib/python3.10/json/decoder.py:355\u001b[0m, in \u001b[0;36mJSONDecoder.raw_decode\u001b[0;34m(self, s, idx)\u001b[0m\n\u001b[1;32m    354\u001b[0m \u001b[39mexcept\u001b[39;00m \u001b[39mStopIteration\u001b[39;00m \u001b[39mas\u001b[39;00m err:\n\u001b[0;32m--> 355\u001b[0m     \u001b[39mraise\u001b[39;00m JSONDecodeError(\u001b[39m\"\u001b[39m\u001b[39mExpecting value\u001b[39m\u001b[39m\"\u001b[39m, s, err\u001b[39m.\u001b[39mvalue) \u001b[39mfrom\u001b[39;00m \u001b[39mNone\u001b[39;00m\n\u001b[1;32m    356\u001b[0m \u001b[39mreturn\u001b[39;00m obj, end\n",
      "\u001b[0;31mJSONDecodeError\u001b[0m: Expecting value: line 1 column 1 (char 0)",
      "\nDuring handling of the above exception, another exception occurred:\n",
      "\u001b[0;31mJSONDecodeError\u001b[0m                           Traceback (most recent call last)",
      "Cell \u001b[0;32mIn[15], line 32\u001b[0m\n\u001b[1;32m     30\u001b[0m \u001b[39mfor\u001b[39;00m s \u001b[39min\u001b[39;00m season_types:\n\u001b[1;32m     31\u001b[0m     api_url \u001b[39m=\u001b[39m \u001b[39m'\u001b[39m\u001b[39mhttps://stats.nba.com/stats/leagueLeaders?LeagueID=00&PerMode=Totals&Scope=S&Season=\u001b[39m\u001b[39m'\u001b[39m\u001b[39m+\u001b[39my\u001b[39m+\u001b[39m\u001b[39m'\u001b[39m\u001b[39m&SeasonType=\u001b[39m\u001b[39m'\u001b[39m\u001b[39m+\u001b[39ms\u001b[39m+\u001b[39m\u001b[39m'\u001b[39m\u001b[39m&StatCategory=PTS\u001b[39m\u001b[39m'\u001b[39m\n\u001b[0;32m---> 32\u001b[0m     r \u001b[39m=\u001b[39m requests\u001b[39m.\u001b[39;49mget(url\u001b[39m=\u001b[39;49mapi_url, headers\u001b[39m=\u001b[39;49mheaders)\u001b[39m.\u001b[39;49mjson()\n\u001b[1;32m     33\u001b[0m     temp_df1 \u001b[39m=\u001b[39m pd\u001b[39m.\u001b[39mDataFrame(r[\u001b[39m'\u001b[39m\u001b[39mresultSet\u001b[39m\u001b[39m'\u001b[39m][\u001b[39m'\u001b[39m\u001b[39mrowSet\u001b[39m\u001b[39m'\u001b[39m], columns\u001b[39m=\u001b[39mdf_cols_short)\n\u001b[1;32m     34\u001b[0m     temp_df2 \u001b[39m=\u001b[39m pd\u001b[39m.\u001b[39mDataFrame({\u001b[39m'\u001b[39m\u001b[39mYear\u001b[39m\u001b[39m'\u001b[39m: [y] \u001b[39m*\u001b[39m \u001b[39mlen\u001b[39m(temp_df1), \u001b[39m'\u001b[39m\u001b[39mSeason_type\u001b[39m\u001b[39m'\u001b[39m: [s] \u001b[39m*\u001b[39m \u001b[39mlen\u001b[39m(temp_df1)})\n",
      "File \u001b[0;32m/Library/Frameworks/Python.framework/Versions/3.10/lib/python3.10/site-packages/requests/models.py:975\u001b[0m, in \u001b[0;36mResponse.json\u001b[0;34m(self, **kwargs)\u001b[0m\n\u001b[1;32m    971\u001b[0m     \u001b[39mreturn\u001b[39;00m complexjson\u001b[39m.\u001b[39mloads(\u001b[39mself\u001b[39m\u001b[39m.\u001b[39mtext, \u001b[39m*\u001b[39m\u001b[39m*\u001b[39mkwargs)\n\u001b[1;32m    972\u001b[0m \u001b[39mexcept\u001b[39;00m JSONDecodeError \u001b[39mas\u001b[39;00m e:\n\u001b[1;32m    973\u001b[0m     \u001b[39m# Catch JSON-related errors and raise as requests.JSONDecodeError\u001b[39;00m\n\u001b[1;32m    974\u001b[0m     \u001b[39m# This aliases json.JSONDecodeError and simplejson.JSONDecodeError\u001b[39;00m\n\u001b[0;32m--> 975\u001b[0m     \u001b[39mraise\u001b[39;00m RequestsJSONDecodeError(e\u001b[39m.\u001b[39mmsg, e\u001b[39m.\u001b[39mdoc, e\u001b[39m.\u001b[39mpos)\n",
      "\u001b[0;31mJSONDecodeError\u001b[0m: Expecting value: line 1 column 1 (char 0)"
     ]
    }
   ],
   "source": [
    "\n",
    "\n",
    "#Get Team Data\n",
    "#________________________________________________________________________________________________\n",
    "# for y in years:\n",
    "#     for s in season_types:\n",
    "#         # api_url = 'https://stats.nba.com/stats/leagueLeaders?LeagueID=00&PerMode=Totals&Scope=S&Season='+y+'&SeasonType='+s+'&StatCategory=PTS'\n",
    "#         # api_url = 'https://stats.nba.com/stats/leaguedashplayerbiostats?LeagueID=00&PerMode=Totals&Scope=S&Season='+y+'&SeasonType='+s+'&StatCategory=PTS'\n",
    "       \n",
    "#                     #https://stats.nba.com/stats/leaguedashteamstats?Conference=&DateFrom=&DateTo=&Division=&GameScope=&GameSegment=&Height=&LastNGames=0&LeagueID=00&Location=&MeasureType=Base&Month=0&OpponentTeamID=0&Outcome=&PORound=0&PaceAdjust=N&PerMode=PerGame&Period=0&PlayerExperience=&PlayerPosition=&PlusMinus=N&Rank=N&Season=2022-23&SeasonSegment=&SeasonType=Playoffs&ShotClockRange=&StarterBench=&TeamID=0&TwoWay=0&VsConference=&VsDivision=\n",
    "#        # api_url =   'https://stats.nba.com/stats/leaguedashteamstats?Conference='\n",
    "#         api_url = 'https://stats.nba.com/stats/leaguedashteamstats?Conference=&DateFrom=&DateTo=&Division=&GameScope=&GameSegment=&Height=&LastNGames=0&LeagueID=00&Location=&MeasureType=Base&Month=0&OpponentTeamID=0&Outcome=&PORound=0&PaceAdjust=N&PerMode=PerGame&Period=0&PlayerExperience=&PlayerPosition=&PlusMinus=N&Rank=N&Season=' + y + '&SeasonSegment=&SeasonType=' + s + '&ShotClockRange=&StarterBench=&TeamID=0&TwoWay=0&VsConference=&VsDivision='\n",
    "\n",
    "\n",
    "#         r = requests.get(url=api_url, headers=headers).json()\n",
    "\n",
    "#         temp_df1 = pd.DataFrame(r['resultSets'][0]['rowSet'], columns=df_cols_short)\n",
    "#         temp_df2 = pd.DataFrame({'Year': [y] * len(temp_df1), 'Season_type': [s] * len(temp_df1)})\n",
    "#         temp_df3 = pd.concat([temp_df2, temp_df1], axis=1)\n",
    "#         df = pd.concat([df, temp_df3], axis=0)\n",
    "\n",
    "\n",
    "#         print(f'Finished scraping data from the {y} {s}')\n",
    "#         lag = np.random.uniform(low=20, high=40)\n",
    "#         print(f'...waiting {round(lag,1)} seconds...')\n",
    "#         time.sleep(lag)\n",
    "\n",
    "\n",
    "#Get Game Data\n",
    "#________________________________________________________________________________________________\n",
    "for y in years:\n",
    "    for s in season_types:\n",
    "        api_url = 'https://stats.nba.com/stats/leagueLeaders?LeagueID=00&PerMode=Totals&Scope=S&Season='+y+'&SeasonType='+s+'&StatCategory=PTS'\n",
    "        r = requests.get(url=api_url, headers=headers).json()\n",
    "        temp_df1 = pd.DataFrame(r['resultSet']['rowSet'], columns=df_cols_short)\n",
    "        temp_df2 = pd.DataFrame({'Year': [y] * len(temp_df1), 'Season_type': [s] * len(temp_df1)})\n",
    "        temp_df3 = pd.concat([temp_df2, temp_df1], axis=1)\n",
    "        df = pd.concat([df, temp_df3], axis=0)\n",
    "        print(f'Finished scraping data from the {y} {s}')\n",
    "        lag = np.random.uniform(low=20, high=40)\n",
    "        print(f'...waiting {round(lag,1)} seconds...')\n",
    "        time.sleep(lag)\n",
    "\n",
    "\n",
    "# #Get Bio Data\n",
    "# #________________________________________________________________________________________________\n",
    "# for y in years:\n",
    "#     for s in season_types:\n",
    "#         # api_url = 'https://stats.nba.com/stats/leagueLeaders?LeagueID=00&PerMode=Totals&Scope=S&Season='+y+'&SeasonType='+s+'&StatCategory=PTS'\n",
    "#         api_url = 'https://stats.nba.com/stats/leaguedashplayerbiostats?LeagueID=00&PerMode=Totals&Scope=S&Season='+y+'&SeasonType='+s+'&StatCategory=PTS'\n",
    "\n",
    "#         r = requests.get(url=api_url, headers=headers).json()\n",
    "#         temp_df1 = pd.DataFrame(r['resultSets'][0]['rowSet'], columns=df_cols_short)\n",
    "#         temp_df2 = pd.DataFrame({'Year':[y for i in range(len(temp_df1))],\n",
    "#                                  'Season_type':[s for i in range(len(temp_df1))]})\n",
    "#         temp_df3 = pd.concat([temp_df2, temp_df1], axis=1)\n",
    "#         df = pd.concat([df, temp_df3], axis=0)\n",
    "#         print(f'Finished scraping data from the {y} {s}')\n",
    "#         lag = np.random.uniform(low=20, high=40)\n",
    "#         print(f'...waiting {round(lag,1)} seconds...')\n",
    "#         time.sleep(lag)\n",
    "\n"
   ]
  },
  {
   "cell_type": "code",
   "execution_count": 38,
   "id": "2f0188f6",
   "metadata": {},
   "outputs": [],
   "source": [
    "df.to_excel('NBA_team_data.xlsx', index=False)"
   ]
  },
  {
   "cell_type": "code",
   "execution_count": null,
   "id": "dea2e609",
   "metadata": {},
   "outputs": [],
   "source": []
  }
 ],
 "metadata": {
  "kernelspec": {
   "display_name": "Python 3 (ipykernel)",
   "language": "python",
   "name": "python3"
  },
  "language_info": {
   "codemirror_mode": {
    "name": "ipython",
    "version": 3
   },
   "file_extension": ".py",
   "mimetype": "text/x-python",
   "name": "python",
   "nbconvert_exporter": "python",
   "pygments_lexer": "ipython3",
   "version": "3.10.6"
  }
 },
 "nbformat": 4,
 "nbformat_minor": 5
}
